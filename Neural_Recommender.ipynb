{
  "nbformat": 4,
  "nbformat_minor": 0,
  "metadata": {
    "colab": {
      "name": "Neural Recommender.ipynb",
      "provenance": [],
      "include_colab_link": true
    },
    "kernelspec": {
      "name": "python3",
      "display_name": "Python 3"
    },
    "accelerator": "GPU"
  },
  "cells": [
    {
      "cell_type": "markdown",
      "metadata": {
        "id": "view-in-github",
        "colab_type": "text"
      },
      "source": [
        "<a href=\"https://colab.research.google.com/github/Vaelastraszz/neural_recommender/blob/master/Neural_Recommender.ipynb\" target=\"_parent\"><img src=\"https://colab.research.google.com/assets/colab-badge.svg\" alt=\"Open In Colab\"/></a>"
      ]
    },
    {
      "cell_type": "code",
      "metadata": {
        "id": "9-a-IY7JCmmD",
        "colab_type": "code",
        "outputId": "3cc8a17b-c878-4550-a393-0fd532fed5e2",
        "colab": {
          "base_uri": "https://localhost:8080/",
          "height": 34
        }
      },
      "source": [
        "import sys\n",
        "import pandas as pd\n",
        "import matplotlib.pyplot as plt\n",
        "import numpy as np\n",
        "\n",
        "from google.colab import drive\n",
        "\n",
        "drive.mount('/content/gdrive')"
      ],
      "execution_count": 0,
      "outputs": [
        {
          "output_type": "stream",
          "text": [
            "Mounted at /content/gdrive\n"
          ],
          "name": "stdout"
        }
      ]
    },
    {
      "cell_type": "markdown",
      "metadata": {
        "id": "79Ux5cUpGscw",
        "colab_type": "text"
      },
      "source": [
        "<h2> Merge movies and ratings </h2>"
      ]
    },
    {
      "cell_type": "code",
      "metadata": {
        "id": "H75rcZxNCxB1",
        "colab_type": "code",
        "colab": {}
      },
      "source": [
        "rating = pd.read_csv(\"/content/gdrive/My Drive/Movies/ratings.csv\")"
      ],
      "execution_count": 0,
      "outputs": []
    },
    {
      "cell_type": "code",
      "metadata": {
        "id": "ljfWdp3FHL88",
        "colab_type": "code",
        "colab": {}
      },
      "source": [
        "movies = pd.read_csv(\"/content/gdrive/My Drive/Movies/movies.csv\")"
      ],
      "execution_count": 0,
      "outputs": []
    },
    {
      "cell_type": "code",
      "metadata": {
        "id": "tugnaROqHQv-",
        "colab_type": "code",
        "colab": {}
      },
      "source": [
        "rating = pd.merge(movies, rating, on='movieId')"
      ],
      "execution_count": 0,
      "outputs": []
    },
    {
      "cell_type": "code",
      "metadata": {
        "id": "WlF0V20_HkhL",
        "colab_type": "code",
        "outputId": "3e54819d-832a-4eb7-820c-51135d125400",
        "colab": {
          "base_uri": "https://localhost:8080/",
          "height": 359
        }
      },
      "source": [
        "rating.head(10)"
      ],
      "execution_count": 0,
      "outputs": [
        {
          "output_type": "execute_result",
          "data": {
            "text/html": [
              "<div>\n",
              "<style scoped>\n",
              "    .dataframe tbody tr th:only-of-type {\n",
              "        vertical-align: middle;\n",
              "    }\n",
              "\n",
              "    .dataframe tbody tr th {\n",
              "        vertical-align: top;\n",
              "    }\n",
              "\n",
              "    .dataframe thead th {\n",
              "        text-align: right;\n",
              "    }\n",
              "</style>\n",
              "<table border=\"1\" class=\"dataframe\">\n",
              "  <thead>\n",
              "    <tr style=\"text-align: right;\">\n",
              "      <th></th>\n",
              "      <th>movieId</th>\n",
              "      <th>title</th>\n",
              "      <th>genres</th>\n",
              "      <th>userId</th>\n",
              "      <th>rating</th>\n",
              "      <th>timestamp</th>\n",
              "    </tr>\n",
              "  </thead>\n",
              "  <tbody>\n",
              "    <tr>\n",
              "      <th>0</th>\n",
              "      <td>0</td>\n",
              "      <td>Toy Story (1995)</td>\n",
              "      <td>Adventure|Animation|Children|Comedy|Fantasy</td>\n",
              "      <td>3</td>\n",
              "      <td>4.0</td>\n",
              "      <td>944919407</td>\n",
              "    </tr>\n",
              "    <tr>\n",
              "      <th>1</th>\n",
              "      <td>0</td>\n",
              "      <td>Toy Story (1995)</td>\n",
              "      <td>Adventure|Animation|Children|Comedy|Fantasy</td>\n",
              "      <td>6</td>\n",
              "      <td>5.0</td>\n",
              "      <td>858275452</td>\n",
              "    </tr>\n",
              "    <tr>\n",
              "      <th>2</th>\n",
              "      <td>0</td>\n",
              "      <td>Toy Story (1995)</td>\n",
              "      <td>Adventure|Animation|Children|Comedy|Fantasy</td>\n",
              "      <td>8</td>\n",
              "      <td>4.0</td>\n",
              "      <td>833981871</td>\n",
              "    </tr>\n",
              "    <tr>\n",
              "      <th>3</th>\n",
              "      <td>0</td>\n",
              "      <td>Toy Story (1995)</td>\n",
              "      <td>Adventure|Animation|Children|Comedy|Fantasy</td>\n",
              "      <td>10</td>\n",
              "      <td>4.0</td>\n",
              "      <td>943497887</td>\n",
              "    </tr>\n",
              "    <tr>\n",
              "      <th>4</th>\n",
              "      <td>0</td>\n",
              "      <td>Toy Story (1995)</td>\n",
              "      <td>Adventure|Animation|Children|Comedy|Fantasy</td>\n",
              "      <td>11</td>\n",
              "      <td>4.5</td>\n",
              "      <td>1230858821</td>\n",
              "    </tr>\n",
              "    <tr>\n",
              "      <th>5</th>\n",
              "      <td>0</td>\n",
              "      <td>Toy Story (1995)</td>\n",
              "      <td>Adventure|Animation|Children|Comedy|Fantasy</td>\n",
              "      <td>12</td>\n",
              "      <td>4.0</td>\n",
              "      <td>859063718</td>\n",
              "    </tr>\n",
              "    <tr>\n",
              "      <th>6</th>\n",
              "      <td>0</td>\n",
              "      <td>Toy Story (1995)</td>\n",
              "      <td>Adventure|Animation|Children|Comedy|Fantasy</td>\n",
              "      <td>13</td>\n",
              "      <td>4.0</td>\n",
              "      <td>849082891</td>\n",
              "    </tr>\n",
              "    <tr>\n",
              "      <th>7</th>\n",
              "      <td>0</td>\n",
              "      <td>Toy Story (1995)</td>\n",
              "      <td>Adventure|Animation|Children|Comedy|Fantasy</td>\n",
              "      <td>14</td>\n",
              "      <td>4.5</td>\n",
              "      <td>1225311239</td>\n",
              "    </tr>\n",
              "    <tr>\n",
              "      <th>8</th>\n",
              "      <td>0</td>\n",
              "      <td>Toy Story (1995)</td>\n",
              "      <td>Adventure|Animation|Children|Comedy|Fantasy</td>\n",
              "      <td>16</td>\n",
              "      <td>3.0</td>\n",
              "      <td>990969772</td>\n",
              "    </tr>\n",
              "    <tr>\n",
              "      <th>9</th>\n",
              "      <td>0</td>\n",
              "      <td>Toy Story (1995)</td>\n",
              "      <td>Adventure|Animation|Children|Comedy|Fantasy</td>\n",
              "      <td>19</td>\n",
              "      <td>5.0</td>\n",
              "      <td>855176628</td>\n",
              "    </tr>\n",
              "  </tbody>\n",
              "</table>\n",
              "</div>"
            ],
            "text/plain": [
              "   movieId             title  ... rating   timestamp\n",
              "0        0  Toy Story (1995)  ...    4.0   944919407\n",
              "1        0  Toy Story (1995)  ...    5.0   858275452\n",
              "2        0  Toy Story (1995)  ...    4.0   833981871\n",
              "3        0  Toy Story (1995)  ...    4.0   943497887\n",
              "4        0  Toy Story (1995)  ...    4.5  1230858821\n",
              "5        0  Toy Story (1995)  ...    4.0   859063718\n",
              "6        0  Toy Story (1995)  ...    4.0   849082891\n",
              "7        0  Toy Story (1995)  ...    4.5  1225311239\n",
              "8        0  Toy Story (1995)  ...    3.0   990969772\n",
              "9        0  Toy Story (1995)  ...    5.0   855176628\n",
              "\n",
              "[10 rows x 6 columns]"
            ]
          },
          "metadata": {
            "tags": []
          },
          "execution_count": 10
        }
      ]
    },
    {
      "cell_type": "code",
      "metadata": {
        "id": "dkFHiNqFHwHE",
        "colab_type": "code",
        "outputId": "e243069e-2a02-4d6b-c275-9b62fbe9cdc8",
        "colab": {
          "base_uri": "https://localhost:8080/",
          "height": 34
        }
      },
      "source": [
        "len(rating.userId.unique()), len(rating.movieId.unique())"
      ],
      "execution_count": 0,
      "outputs": [
        {
          "output_type": "execute_result",
          "data": {
            "text/plain": [
              "(138493, 26744)"
            ]
          },
          "metadata": {
            "tags": []
          },
          "execution_count": 5
        }
      ]
    },
    {
      "cell_type": "markdown",
      "metadata": {
        "id": "fNqDwBw-zUJF",
        "colab_type": "text"
      },
      "source": [
        "<h2> Modification des Ids (movie + user) </h2>"
      ]
    },
    {
      "cell_type": "code",
      "metadata": {
        "id": "QNuH6a8h0K-3",
        "colab_type": "code",
        "colab": {}
      },
      "source": [
        "rating.movieId = rating.movieId.astype('category').cat.codes.values"
      ],
      "execution_count": 0,
      "outputs": []
    },
    {
      "cell_type": "markdown",
      "metadata": {
        "id": "NvRxQqlr0imH",
        "colab_type": "text"
      },
      "source": [
        "<h2> Split dataset traing testing </h2>"
      ]
    },
    {
      "cell_type": "code",
      "metadata": {
        "id": "ytxf3rcfz6tF",
        "colab_type": "code",
        "colab": {}
      },
      "source": [
        "from sklearn.model_selection import train_test_split\n",
        "train, test = train_test_split(rating[:250000], test_size=0.2)"
      ],
      "execution_count": 0,
      "outputs": []
    },
    {
      "cell_type": "markdown",
      "metadata": {
        "id": "f8aXIwDK1SvP",
        "colab_type": "text"
      },
      "source": [
        "<h2> Mise en place du modèle </h2>"
      ]
    },
    {
      "cell_type": "code",
      "metadata": {
        "id": "fWFETRZS0nWy",
        "colab_type": "code",
        "colab": {}
      },
      "source": [
        "import keras\n",
        "n_latent_factors_user = 8\n",
        "n_latent_factors_movie = 10\n",
        "n_latent_factors_mf = 3\n",
        "n_users, n_movies = len(rating.userId.unique()), len(rating.movieId.unique())\n",
        "\n",
        "movie_input = keras.layers.Input(shape=[1],name='Item')\n",
        "movie_embedding_mlp = keras.layers.Embedding(n_movies + 1, n_latent_factors_movie, name='Movie-Embedding-MLP')(movie_input)\n",
        "movie_vec_mlp = keras.layers.Flatten(name='FlattenMovies-MLP')(movie_embedding_mlp)\n",
        "movie_vec_mlp = keras.layers.Dropout(0.05)(movie_vec_mlp)\n",
        "\n",
        "movie_embedding_mf = keras.layers.Embedding(n_movies + 1, n_latent_factors_mf, name='Movie-Embedding-MF')(movie_input)\n",
        "movie_vec_mf = keras.layers.Flatten(name='FlattenMovies-MF')(movie_embedding_mf)\n",
        "movie_vec_mf = keras.layers.Dropout(0.05)(movie_vec_mf)\n",
        "\n",
        "\n",
        "user_input = keras.layers.Input(shape=[1],name='User')\n",
        "user_vec_mlp = keras.layers.Flatten(name='FlattenUsers-MLP')(keras.layers.Embedding(n_users + 1, n_latent_factors_user,name='User-Embedding-MLP')(user_input))\n",
        "user_vec_mlp = keras.layers.Dropout(0.2)(user_vec_mlp)\n",
        "\n",
        "user_vec_mf = keras.layers.Flatten(name='FlattenUsers-MF')(keras.layers.Embedding(n_users + 1, n_latent_factors_mf,name='User-Embedding-MF')(user_input))\n",
        "user_vec_mf = keras.layers.Dropout(0.2)(user_vec_mf)\n",
        "\n",
        "\n",
        "concat = keras.layers.Concatenate()([movie_vec_mlp, user_vec_mlp])\n",
        "concat_dropout = keras.layers.Dropout(0.15)(concat)\n",
        "dense = keras.layers.Dense(200,name='FullyConnected')(concat_dropout)\n",
        "dense_batch = keras.layers.BatchNormalization(name='Batch')(dense)\n",
        "dropout_1 = keras.layers.Dropout(0.15,name='Dropout-1')(dense_batch)\n",
        "dense_2 = keras.layers.Dense(100,name='FullyConnected-1')(dropout_1)\n",
        "dense_batch_2 = keras.layers.BatchNormalization(name='Batch-2')(dense_2)\n",
        "\n",
        "\n",
        "dropout_2 = keras.layers.Dropout(0.2,name='Dropout-2')(dense_batch_2)\n",
        "dense_3 = keras.layers.Dense(50,name='FullyConnected-2')(dropout_2)\n",
        "dense_4 = keras.layers.Dense(20,name='FullyConnected-3', activation='relu')(dense_3)\n",
        "\n",
        "pred_mf = keras.layers.dot([movie_vec_mf,user_vec_mf], axes=1, normalize=False)\n",
        "\n",
        "\n",
        "pred_mlp = keras.layers.Dense(1, activation='relu',name='Activation')(dense_4)\n",
        "\n",
        "combine_mlp_mf = keras.layers.Concatenate()([pred_mf, pred_mlp])\n",
        "result_combine = keras.layers.Dense(100,name='Combine-MF-MLP')(combine_mlp_mf)\n",
        "deep_combine = keras.layers.Dense(50,name='FullyConnected-4')(result_combine)\n",
        "\n",
        "\n",
        "result = keras.layers.Dense(1,name='Prediction')(deep_combine)\n",
        "\n",
        "\n",
        "model = keras.Model([user_input, movie_input], result)\n",
        "opt = keras.optimizers.Adam(lr = 0.001)\n",
        "model.compile(optimizer=opt,loss= 'mean_absolute_error')"
      ],
      "execution_count": 0,
      "outputs": []
    },
    {
      "cell_type": "code",
      "metadata": {
        "id": "r4WqigAn1zRt",
        "colab_type": "code",
        "outputId": "c6d5c810-fc8a-4e60-a918-4b5a0d12be21",
        "colab": {
          "base_uri": "https://localhost:8080/",
          "height": 1000
        }
      },
      "source": [
        "from IPython.display import SVG\n",
        "from keras.utils.vis_utils import model_to_dot\n",
        "SVG(model_to_dot(model,  show_shapes=False, show_layer_names=True, rankdir='HB',dpi=65).create(prog='dot', format='svg'))"
      ],
      "execution_count": 0,
      "outputs": [
        {
          "output_type": "execute_result",
          "data": {
            "text/plain": [
              "<IPython.core.display.SVG object>"
            ],
            "image/svg+xml": "<svg height=\"1227pt\" viewBox=\"0.00 0.00 965.50 1359.00\" width=\"872pt\" xmlns=\"http://www.w3.org/2000/svg\" xmlns:xlink=\"http://www.w3.org/1999/xlink\">\n<g class=\"graph\" id=\"graph0\" transform=\"scale(.9028 .9028) rotate(0) translate(4 1355)\">\n<title>G</title>\n<polygon fill=\"#ffffff\" points=\"-4,4 -4,-1355 961.5,-1355 961.5,4 -4,4\" stroke=\"transparent\"/>\n<!-- 140497655176272 -->\n<g class=\"node\" id=\"node1\">\n<title>140497655176272</title>\n<polygon fill=\"none\" points=\"182,-1314.5 182,-1350.5 295,-1350.5 295,-1314.5 182,-1314.5\" stroke=\"#000000\"/>\n<text fill=\"#000000\" font-family=\"Times,serif\" font-size=\"14.00\" text-anchor=\"middle\" x=\"238.5\" y=\"-1328.8\">Item: InputLayer</text>\n</g>\n<!-- 140497653294584 -->\n<g class=\"node\" id=\"node3\">\n<title>140497653294584</title>\n<polygon fill=\"none\" points=\"245.5,-1241.5 245.5,-1277.5 481.5,-1277.5 481.5,-1241.5 245.5,-1241.5\" stroke=\"#000000\"/>\n<text fill=\"#000000\" font-family=\"Times,serif\" font-size=\"14.00\" text-anchor=\"middle\" x=\"363.5\" y=\"-1255.8\">Movie-Embedding-MLP: Embedding</text>\n</g>\n<!-- 140497655176272&#45;&gt;140497653294584 -->\n<g class=\"edge\" id=\"edge1\">\n<title>140497655176272-&gt;140497653294584</title>\n<path d=\"M269.3989,-1314.4551C285.7753,-1304.8912 306.0798,-1293.0334 323.6313,-1282.7833\" fill=\"none\" stroke=\"#000000\"/>\n<polygon fill=\"#000000\" points=\"325.6531,-1285.6558 332.5234,-1277.5904 322.123,-1279.6111 325.6531,-1285.6558\" stroke=\"#000000\"/>\n</g>\n<!-- 140497652348072 -->\n<g class=\"node\" id=\"node16\">\n<title>140497652348072</title>\n<polygon fill=\"none\" points=\"0,-1241.5 0,-1277.5 227,-1277.5 227,-1241.5 0,-1241.5\" stroke=\"#000000\"/>\n<text fill=\"#000000\" font-family=\"Times,serif\" font-size=\"14.00\" text-anchor=\"middle\" x=\"113.5\" y=\"-1255.8\">Movie-Embedding-MF: Embedding</text>\n</g>\n<!-- 140497655176272&#45;&gt;140497652348072 -->\n<g class=\"edge\" id=\"edge15\">\n<title>140497655176272-&gt;140497652348072</title>\n<path d=\"M207.6011,-1314.4551C191.2247,-1304.8912 170.9202,-1293.0334 153.3687,-1282.7833\" fill=\"none\" stroke=\"#000000\"/>\n<polygon fill=\"#000000\" points=\"154.877,-1279.6111 144.4766,-1277.5904 151.3469,-1285.6558 154.877,-1279.6111\" stroke=\"#000000\"/>\n</g>\n<!-- 140497652411640 -->\n<g class=\"node\" id=\"node2\">\n<title>140497652411640</title>\n<polygon fill=\"none\" points=\"669.5,-1314.5 669.5,-1350.5 783.5,-1350.5 783.5,-1314.5 669.5,-1314.5\" stroke=\"#000000\"/>\n<text fill=\"#000000\" font-family=\"Times,serif\" font-size=\"14.00\" text-anchor=\"middle\" x=\"726.5\" y=\"-1328.8\">User: InputLayer</text>\n</g>\n<!-- 140497626893672 -->\n<g class=\"node\" id=\"node4\">\n<title>140497626893672</title>\n<polygon fill=\"none\" points=\"733.5,-1241.5 733.5,-1277.5 957.5,-1277.5 957.5,-1241.5 733.5,-1241.5\" stroke=\"#000000\"/>\n<text fill=\"#000000\" font-family=\"Times,serif\" font-size=\"14.00\" text-anchor=\"middle\" x=\"845.5\" y=\"-1255.8\">User-Embedding-MLP: Embedding</text>\n</g>\n<!-- 140497652411640&#45;&gt;140497626893672 -->\n<g class=\"edge\" id=\"edge2\">\n<title>140497652411640-&gt;140497626893672</title>\n<path d=\"M755.9157,-1314.4551C771.363,-1304.979 790.4816,-1293.2508 807.0845,-1283.0658\" fill=\"none\" stroke=\"#000000\"/>\n<polygon fill=\"#000000\" points=\"809.3164,-1285.8028 816.0102,-1277.5904 805.6561,-1279.836 809.3164,-1285.8028\" stroke=\"#000000\"/>\n</g>\n<!-- 140497626999720 -->\n<g class=\"node\" id=\"node17\">\n<title>140497626999720</title>\n<polygon fill=\"none\" points=\"500,-1241.5 500,-1277.5 715,-1277.5 715,-1241.5 500,-1241.5\" stroke=\"#000000\"/>\n<text fill=\"#000000\" font-family=\"Times,serif\" font-size=\"14.00\" text-anchor=\"middle\" x=\"607.5\" y=\"-1255.8\">User-Embedding-MF: Embedding</text>\n</g>\n<!-- 140497652411640&#45;&gt;140497626999720 -->\n<g class=\"edge\" id=\"edge16\">\n<title>140497652411640-&gt;140497626999720</title>\n<path d=\"M697.0843,-1314.4551C681.637,-1304.979 662.5184,-1293.2508 645.9155,-1283.0658\" fill=\"none\" stroke=\"#000000\"/>\n<polygon fill=\"#000000\" points=\"647.3439,-1279.836 636.9898,-1277.5904 643.6836,-1285.8028 647.3439,-1279.836\" stroke=\"#000000\"/>\n</g>\n<!-- 140497652348128 -->\n<g class=\"node\" id=\"node5\">\n<title>140497652348128</title>\n<polygon fill=\"none\" points=\"288,-1168.5 288,-1204.5 467,-1204.5 467,-1168.5 288,-1168.5\" stroke=\"#000000\"/>\n<text fill=\"#000000\" font-family=\"Times,serif\" font-size=\"14.00\" text-anchor=\"middle\" x=\"377.5\" y=\"-1182.8\">FlattenMovies-MLP: Flatten</text>\n</g>\n<!-- 140497653294584&#45;&gt;140497652348128 -->\n<g class=\"edge\" id=\"edge3\">\n<title>140497653294584-&gt;140497652348128</title>\n<path d=\"M366.9607,-1241.4551C368.5088,-1233.3828 370.3703,-1223.6764 372.0953,-1214.6817\" fill=\"none\" stroke=\"#000000\"/>\n<polygon fill=\"#000000\" points=\"375.5844,-1215.0706 374.0306,-1204.5904 368.7097,-1213.7521 375.5844,-1215.0706\" stroke=\"#000000\"/>\n</g>\n<!-- 140497652574864 -->\n<g class=\"node\" id=\"node6\">\n<title>140497652574864</title>\n<polygon fill=\"none\" points=\"732.5,-1168.5 732.5,-1204.5 900.5,-1204.5 900.5,-1168.5 732.5,-1168.5\" stroke=\"#000000\"/>\n<text fill=\"#000000\" font-family=\"Times,serif\" font-size=\"14.00\" text-anchor=\"middle\" x=\"816.5\" y=\"-1182.8\">FlattenUsers-MLP: Flatten</text>\n</g>\n<!-- 140497626893672&#45;&gt;140497652574864 -->\n<g class=\"edge\" id=\"edge4\">\n<title>140497626893672-&gt;140497652574864</title>\n<path d=\"M838.3315,-1241.4551C835.055,-1233.2074 831.1007,-1223.2536 827.4629,-1214.0962\" fill=\"none\" stroke=\"#000000\"/>\n<polygon fill=\"#000000\" points=\"830.6313,-1212.5917 823.6866,-1204.5904 824.1259,-1215.1761 830.6313,-1212.5917\" stroke=\"#000000\"/>\n</g>\n<!-- 140497652348352 -->\n<g class=\"node\" id=\"node7\">\n<title>140497652348352</title>\n<polygon fill=\"none\" points=\"321,-1095.5 321,-1131.5 462,-1131.5 462,-1095.5 321,-1095.5\" stroke=\"#000000\"/>\n<text fill=\"#000000\" font-family=\"Times,serif\" font-size=\"14.00\" text-anchor=\"middle\" x=\"391.5\" y=\"-1109.8\">dropout_35: Dropout</text>\n</g>\n<!-- 140497652348128&#45;&gt;140497652348352 -->\n<g class=\"edge\" id=\"edge5\">\n<title>140497652348128-&gt;140497652348352</title>\n<path d=\"M380.9607,-1168.4551C382.5088,-1160.3828 384.3703,-1150.6764 386.0953,-1141.6817\" fill=\"none\" stroke=\"#000000\"/>\n<polygon fill=\"#000000\" points=\"389.5844,-1142.0706 388.0306,-1131.5904 382.7097,-1140.7521 389.5844,-1142.0706\" stroke=\"#000000\"/>\n</g>\n<!-- 140497653294808 -->\n<g class=\"node\" id=\"node8\">\n<title>140497653294808</title>\n<polygon fill=\"none\" points=\"713,-1095.5 713,-1131.5 854,-1131.5 854,-1095.5 713,-1095.5\" stroke=\"#000000\"/>\n<text fill=\"#000000\" font-family=\"Times,serif\" font-size=\"14.00\" text-anchor=\"middle\" x=\"783.5\" y=\"-1109.8\">dropout_37: Dropout</text>\n</g>\n<!-- 140497652574864&#45;&gt;140497653294808 -->\n<g class=\"edge\" id=\"edge6\">\n<title>140497652574864-&gt;140497653294808</title>\n<path d=\"M808.3427,-1168.4551C804.5746,-1160.1196 800.0188,-1150.0416 795.843,-1140.8042\" fill=\"none\" stroke=\"#000000\"/>\n<polygon fill=\"#000000\" points=\"798.9864,-1139.2608 791.6778,-1131.5904 792.6078,-1142.1443 798.9864,-1139.2608\" stroke=\"#000000\"/>\n</g>\n<!-- 140497627019976 -->\n<g class=\"node\" id=\"node9\">\n<title>140497627019976</title>\n<polygon fill=\"none\" points=\"470,-1022.5 470,-1058.5 645,-1058.5 645,-1022.5 470,-1022.5\" stroke=\"#000000\"/>\n<text fill=\"#000000\" font-family=\"Times,serif\" font-size=\"14.00\" text-anchor=\"middle\" x=\"557.5\" y=\"-1036.8\">concatenate_6: Concatenate</text>\n</g>\n<!-- 140497652348352&#45;&gt;140497627019976 -->\n<g class=\"edge\" id=\"edge7\">\n<title>140497652348352-&gt;140497627019976</title>\n<path d=\"M432.5337,-1095.4551C455.0797,-1085.5403 483.232,-1073.16 507.1053,-1062.6615\" fill=\"none\" stroke=\"#000000\"/>\n<polygon fill=\"#000000\" points=\"508.618,-1065.8198 516.363,-1058.5904 505.8001,-1059.4121 508.618,-1065.8198\" stroke=\"#000000\"/>\n</g>\n<!-- 140497653294808&#45;&gt;140497627019976 -->\n<g class=\"edge\" id=\"edge8\">\n<title>140497653294808-&gt;140497627019976</title>\n<path d=\"M727.6348,-1095.4551C695.989,-1085.2332 656.2302,-1072.3907 623.1067,-1061.6916\" fill=\"none\" stroke=\"#000000\"/>\n<polygon fill=\"#000000\" points=\"624.0975,-1058.3336 613.5058,-1058.5904 621.9458,-1064.9947 624.0975,-1058.3336\" stroke=\"#000000\"/>\n</g>\n<!-- 140497627119064 -->\n<g class=\"node\" id=\"node10\">\n<title>140497627119064</title>\n<polygon fill=\"none\" points=\"486,-949.5 486,-985.5 627,-985.5 627,-949.5 486,-949.5\" stroke=\"#000000\"/>\n<text fill=\"#000000\" font-family=\"Times,serif\" font-size=\"14.00\" text-anchor=\"middle\" x=\"556.5\" y=\"-963.8\">dropout_39: Dropout</text>\n</g>\n<!-- 140497627019976&#45;&gt;140497627119064 -->\n<g class=\"edge\" id=\"edge9\">\n<title>140497627019976-&gt;140497627119064</title>\n<path d=\"M557.2528,-1022.4551C557.1422,-1014.3828 557.0093,-1004.6764 556.8861,-995.6817\" fill=\"none\" stroke=\"#000000\"/>\n<polygon fill=\"#000000\" points=\"560.3846,-995.5414 556.7478,-985.5904 553.3852,-995.6374 560.3846,-995.5414\" stroke=\"#000000\"/>\n</g>\n<!-- 140497627117944 -->\n<g class=\"node\" id=\"node11\">\n<title>140497627117944</title>\n<polygon fill=\"none\" points=\"478.5,-876.5 478.5,-912.5 630.5,-912.5 630.5,-876.5 478.5,-876.5\" stroke=\"#000000\"/>\n<text fill=\"#000000\" font-family=\"Times,serif\" font-size=\"14.00\" text-anchor=\"middle\" x=\"554.5\" y=\"-890.8\">FullyConnected: Dense</text>\n</g>\n<!-- 140497627119064&#45;&gt;140497627117944 -->\n<g class=\"edge\" id=\"edge10\">\n<title>140497627119064-&gt;140497627117944</title>\n<path d=\"M556.0056,-949.4551C555.7845,-941.3828 555.5185,-931.6764 555.2721,-922.6817\" fill=\"none\" stroke=\"#000000\"/>\n<polygon fill=\"#000000\" points=\"558.7683,-922.4907 554.9956,-912.5904 551.7709,-922.6825 558.7683,-922.4907\" stroke=\"#000000\"/>\n</g>\n<!-- 140497627118504 -->\n<g class=\"node\" id=\"node12\">\n<title>140497627118504</title>\n<polygon fill=\"none\" points=\"467.5,-803.5 467.5,-839.5 639.5,-839.5 639.5,-803.5 467.5,-803.5\" stroke=\"#000000\"/>\n<text fill=\"#000000\" font-family=\"Times,serif\" font-size=\"14.00\" text-anchor=\"middle\" x=\"553.5\" y=\"-817.8\">Batch: BatchNormalization</text>\n</g>\n<!-- 140497627117944&#45;&gt;140497627118504 -->\n<g class=\"edge\" id=\"edge11\">\n<title>140497627117944-&gt;140497627118504</title>\n<path d=\"M554.2528,-876.4551C554.1422,-868.3828 554.0093,-858.6764 553.8861,-849.6817\" fill=\"none\" stroke=\"#000000\"/>\n<polygon fill=\"#000000\" points=\"557.3846,-849.5414 553.7478,-839.5904 550.3852,-849.6374 557.3846,-849.5414\" stroke=\"#000000\"/>\n</g>\n<!-- 140497626692688 -->\n<g class=\"node\" id=\"node13\">\n<title>140497626692688</title>\n<polygon fill=\"none\" points=\"483.5,-730.5 483.5,-766.5 617.5,-766.5 617.5,-730.5 483.5,-730.5\" stroke=\"#000000\"/>\n<text fill=\"#000000\" font-family=\"Times,serif\" font-size=\"14.00\" text-anchor=\"middle\" x=\"550.5\" y=\"-744.8\">Dropout-1: Dropout</text>\n</g>\n<!-- 140497627118504&#45;&gt;140497626692688 -->\n<g class=\"edge\" id=\"edge12\">\n<title>140497627118504-&gt;140497626692688</title>\n<path d=\"M552.7584,-803.4551C552.4267,-795.3828 552.0278,-785.6764 551.6582,-776.6817\" fill=\"none\" stroke=\"#000000\"/>\n<polygon fill=\"#000000\" points=\"555.1512,-776.4382 551.2434,-766.5904 548.1571,-776.7257 555.1512,-776.4382\" stroke=\"#000000\"/>\n</g>\n<!-- 140497626754576 -->\n<g class=\"node\" id=\"node14\">\n<title>140497626754576</title>\n<polygon fill=\"none\" points=\"468.5,-657.5 468.5,-693.5 632.5,-693.5 632.5,-657.5 468.5,-657.5\" stroke=\"#000000\"/>\n<text fill=\"#000000\" font-family=\"Times,serif\" font-size=\"14.00\" text-anchor=\"middle\" x=\"550.5\" y=\"-671.8\">FullyConnected-1: Dense</text>\n</g>\n<!-- 140497626692688&#45;&gt;140497626754576 -->\n<g class=\"edge\" id=\"edge13\">\n<title>140497626692688-&gt;140497626754576</title>\n<path d=\"M550.5,-730.4551C550.5,-722.3828 550.5,-712.6764 550.5,-703.6817\" fill=\"none\" stroke=\"#000000\"/>\n<polygon fill=\"#000000\" points=\"554.0001,-703.5903 550.5,-693.5904 547.0001,-703.5904 554.0001,-703.5903\" stroke=\"#000000\"/>\n</g>\n<!-- 140497626693584 -->\n<g class=\"node\" id=\"node15\">\n<title>140497626693584</title>\n<polygon fill=\"none\" points=\"458.5,-584.5 458.5,-620.5 642.5,-620.5 642.5,-584.5 458.5,-584.5\" stroke=\"#000000\"/>\n<text fill=\"#000000\" font-family=\"Times,serif\" font-size=\"14.00\" text-anchor=\"middle\" x=\"550.5\" y=\"-598.8\">Batch-2: BatchNormalization</text>\n</g>\n<!-- 140497626754576&#45;&gt;140497626693584 -->\n<g class=\"edge\" id=\"edge14\">\n<title>140497626754576-&gt;140497626693584</title>\n<path d=\"M550.5,-657.4551C550.5,-649.3828 550.5,-639.6764 550.5,-630.6817\" fill=\"none\" stroke=\"#000000\"/>\n<polygon fill=\"#000000\" points=\"554.0001,-630.5903 550.5,-620.5904 547.0001,-630.5904 554.0001,-630.5903\" stroke=\"#000000\"/>\n</g>\n<!-- 140497626549272 -->\n<g class=\"node\" id=\"node18\">\n<title>140497626549272</title>\n<polygon fill=\"none\" points=\"480.5,-511.5 480.5,-547.5 614.5,-547.5 614.5,-511.5 480.5,-511.5\" stroke=\"#000000\"/>\n<text fill=\"#000000\" font-family=\"Times,serif\" font-size=\"14.00\" text-anchor=\"middle\" x=\"547.5\" y=\"-525.8\">Dropout-2: Dropout</text>\n</g>\n<!-- 140497626693584&#45;&gt;140497626549272 -->\n<g class=\"edge\" id=\"edge17\">\n<title>140497626693584-&gt;140497626549272</title>\n<path d=\"M549.7584,-584.4551C549.4267,-576.3828 549.0278,-566.6764 548.6582,-557.6817\" fill=\"none\" stroke=\"#000000\"/>\n<polygon fill=\"#000000\" points=\"552.1512,-557.4382 548.2434,-547.5904 545.1571,-557.7257 552.1512,-557.4382\" stroke=\"#000000\"/>\n</g>\n<!-- 140497655188168 -->\n<g class=\"node\" id=\"node19\">\n<title>140497655188168</title>\n<polygon fill=\"none\" points=\"71.5,-1168.5 71.5,-1204.5 241.5,-1204.5 241.5,-1168.5 71.5,-1168.5\" stroke=\"#000000\"/>\n<text fill=\"#000000\" font-family=\"Times,serif\" font-size=\"14.00\" text-anchor=\"middle\" x=\"156.5\" y=\"-1182.8\">FlattenMovies-MF: Flatten</text>\n</g>\n<!-- 140497652348072&#45;&gt;140497655188168 -->\n<g class=\"edge\" id=\"edge18\">\n<title>140497652348072-&gt;140497655188168</title>\n<path d=\"M124.1292,-1241.4551C129.1425,-1232.9441 135.2259,-1222.6165 140.7597,-1213.2219\" fill=\"none\" stroke=\"#000000\"/>\n<polygon fill=\"#000000\" points=\"143.7843,-1214.9831 145.844,-1204.5904 137.7529,-1211.4303 143.7843,-1214.9831\" stroke=\"#000000\"/>\n</g>\n<!-- 140497626893560 -->\n<g class=\"node\" id=\"node20\">\n<title>140497626893560</title>\n<polygon fill=\"none\" points=\"513,-1168.5 513,-1204.5 672,-1204.5 672,-1168.5 513,-1168.5\" stroke=\"#000000\"/>\n<text fill=\"#000000\" font-family=\"Times,serif\" font-size=\"14.00\" text-anchor=\"middle\" x=\"592.5\" y=\"-1182.8\">FlattenUsers-MF: Flatten</text>\n</g>\n<!-- 140497626999720&#45;&gt;140497626893560 -->\n<g class=\"edge\" id=\"edge19\">\n<title>140497626999720-&gt;140497626893560</title>\n<path d=\"M603.7921,-1241.4551C602.1154,-1233.2951 600.0956,-1223.4652 598.2306,-1214.3887\" fill=\"none\" stroke=\"#000000\"/>\n<polygon fill=\"#000000\" points=\"601.6584,-1213.6812 596.2172,-1204.5904 594.8016,-1215.0902 601.6584,-1213.6812\" stroke=\"#000000\"/>\n</g>\n<!-- 140497626600728 -->\n<g class=\"node\" id=\"node21\">\n<title>140497626600728</title>\n<polygon fill=\"none\" points=\"460.5,-438.5 460.5,-474.5 624.5,-474.5 624.5,-438.5 460.5,-438.5\" stroke=\"#000000\"/>\n<text fill=\"#000000\" font-family=\"Times,serif\" font-size=\"14.00\" text-anchor=\"middle\" x=\"542.5\" y=\"-452.8\">FullyConnected-2: Dense</text>\n</g>\n<!-- 140497626549272&#45;&gt;140497626600728 -->\n<g class=\"edge\" id=\"edge20\">\n<title>140497626549272-&gt;140497626600728</title>\n<path d=\"M546.264,-511.4551C545.7112,-503.3828 545.0463,-493.6764 544.4303,-484.6817\" fill=\"none\" stroke=\"#000000\"/>\n<polygon fill=\"#000000\" points=\"547.9143,-484.3278 543.7391,-474.5904 540.9307,-484.8062 547.9143,-484.3278\" stroke=\"#000000\"/>\n</g>\n<!-- 140497652465392 -->\n<g class=\"node\" id=\"node22\">\n<title>140497652465392</title>\n<polygon fill=\"none\" points=\"131,-1095.5 131,-1131.5 272,-1131.5 272,-1095.5 131,-1095.5\" stroke=\"#000000\"/>\n<text fill=\"#000000\" font-family=\"Times,serif\" font-size=\"14.00\" text-anchor=\"middle\" x=\"201.5\" y=\"-1109.8\">dropout_36: Dropout</text>\n</g>\n<!-- 140497655188168&#45;&gt;140497652465392 -->\n<g class=\"edge\" id=\"edge21\">\n<title>140497655188168-&gt;140497652465392</title>\n<path d=\"M167.6236,-1168.4551C172.8701,-1159.9441 179.2364,-1149.6165 185.0276,-1140.2219\" fill=\"none\" stroke=\"#000000\"/>\n<polygon fill=\"#000000\" points=\"188.0803,-1141.9396 190.3484,-1131.5904 182.1215,-1138.2663 188.0803,-1141.9396\" stroke=\"#000000\"/>\n</g>\n<!-- 140497627000280 -->\n<g class=\"node\" id=\"node23\">\n<title>140497627000280</title>\n<polygon fill=\"none\" points=\"508,-1095.5 508,-1131.5 649,-1131.5 649,-1095.5 508,-1095.5\" stroke=\"#000000\"/>\n<text fill=\"#000000\" font-family=\"Times,serif\" font-size=\"14.00\" text-anchor=\"middle\" x=\"578.5\" y=\"-1109.8\">dropout_38: Dropout</text>\n</g>\n<!-- 140497626893560&#45;&gt;140497627000280 -->\n<g class=\"edge\" id=\"edge22\">\n<title>140497626893560-&gt;140497627000280</title>\n<path d=\"M589.0393,-1168.4551C587.4912,-1160.3828 585.6297,-1150.6764 583.9047,-1141.6817\" fill=\"none\" stroke=\"#000000\"/>\n<polygon fill=\"#000000\" points=\"587.2903,-1140.7521 581.9694,-1131.5904 580.4156,-1142.0706 587.2903,-1140.7521\" stroke=\"#000000\"/>\n</g>\n<!-- 140497626513360 -->\n<g class=\"node\" id=\"node24\">\n<title>140497626513360</title>\n<polygon fill=\"none\" points=\"457.5,-365.5 457.5,-401.5 621.5,-401.5 621.5,-365.5 457.5,-365.5\" stroke=\"#000000\"/>\n<text fill=\"#000000\" font-family=\"Times,serif\" font-size=\"14.00\" text-anchor=\"middle\" x=\"539.5\" y=\"-379.8\">FullyConnected-3: Dense</text>\n</g>\n<!-- 140497626600728&#45;&gt;140497626513360 -->\n<g class=\"edge\" id=\"edge23\">\n<title>140497626600728-&gt;140497626513360</title>\n<path d=\"M541.7584,-438.4551C541.4267,-430.3828 541.0278,-420.6764 540.6582,-411.6817\" fill=\"none\" stroke=\"#000000\"/>\n<polygon fill=\"#000000\" points=\"544.1512,-411.4382 540.2434,-401.5904 537.1571,-411.7257 544.1512,-411.4382\" stroke=\"#000000\"/>\n</g>\n<!-- 140497625844872 -->\n<g class=\"node\" id=\"node25\">\n<title>140497625844872</title>\n<polygon fill=\"none\" points=\"371.5,-1022.5 371.5,-1058.5 451.5,-1058.5 451.5,-1022.5 371.5,-1022.5\" stroke=\"#000000\"/>\n<text fill=\"#000000\" font-family=\"Times,serif\" font-size=\"14.00\" text-anchor=\"middle\" x=\"411.5\" y=\"-1036.8\">dot_3: Dot</text>\n</g>\n<!-- 140497652465392&#45;&gt;140497625844872 -->\n<g class=\"edge\" id=\"edge24\">\n<title>140497652465392-&gt;140497625844872</title>\n<path d=\"M253.4101,-1095.4551C286.4318,-1083.9761 328.9602,-1069.1924 361.5881,-1057.8503\" fill=\"none\" stroke=\"#000000\"/>\n<polygon fill=\"#000000\" points=\"363.0783,-1061.0378 371.3747,-1054.4483 360.7798,-1054.4259 363.0783,-1061.0378\" stroke=\"#000000\"/>\n</g>\n<!-- 140497627000280&#45;&gt;140497625844872 -->\n<g class=\"edge\" id=\"edge25\">\n<title>140497627000280-&gt;140497625844872</title>\n<path d=\"M537.2191,-1095.4551C514.1962,-1085.3912 485.3623,-1072.7871 461.1178,-1062.1892\" fill=\"none\" stroke=\"#000000\"/>\n<polygon fill=\"#000000\" points=\"462.2945,-1058.8839 451.7298,-1058.0855 459.4908,-1065.2978 462.2945,-1058.8839\" stroke=\"#000000\"/>\n</g>\n<!-- 140497625898904 -->\n<g class=\"node\" id=\"node26\">\n<title>140497625898904</title>\n<polygon fill=\"none\" points=\"464,-292.5 464,-328.5 583,-328.5 583,-292.5 464,-292.5\" stroke=\"#000000\"/>\n<text fill=\"#000000\" font-family=\"Times,serif\" font-size=\"14.00\" text-anchor=\"middle\" x=\"523.5\" y=\"-306.8\">Activation: Dense</text>\n</g>\n<!-- 140497626513360&#45;&gt;140497625898904 -->\n<g class=\"edge\" id=\"edge26\">\n<title>140497626513360-&gt;140497625898904</title>\n<path d=\"M535.5449,-365.4551C533.7565,-357.2951 531.602,-347.4652 529.6126,-338.3887\" fill=\"none\" stroke=\"#000000\"/>\n<polygon fill=\"#000000\" points=\"533.0249,-337.6091 527.465,-328.5904 526.1872,-339.1079 533.0249,-337.6091\" stroke=\"#000000\"/>\n</g>\n<!-- 140497625957768 -->\n<g class=\"node\" id=\"node27\">\n<title>140497625957768</title>\n<polygon fill=\"none\" points=\"381,-219.5 381,-255.5 556,-255.5 556,-219.5 381,-219.5\" stroke=\"#000000\"/>\n<text fill=\"#000000\" font-family=\"Times,serif\" font-size=\"14.00\" text-anchor=\"middle\" x=\"468.5\" y=\"-233.8\">concatenate_7: Concatenate</text>\n</g>\n<!-- 140497625844872&#45;&gt;140497625957768 -->\n<g class=\"edge\" id=\"edge27\">\n<title>140497625844872-&gt;140497625957768</title>\n<path d=\"M414.1936,-1022.1088C418.0014,-994.4727 424.5,-940.56 424.5,-894.5 424.5,-894.5 424.5,-894.5 424.5,-383.5 424.5,-340.8739 441.9064,-294.1111 454.8231,-265.2781\" fill=\"none\" stroke=\"#000000\"/>\n<polygon fill=\"#000000\" points=\"458.1555,-266.4098 459.1687,-255.8635 451.7999,-263.4761 458.1555,-266.4098\" stroke=\"#000000\"/>\n</g>\n<!-- 140497625898904&#45;&gt;140497625957768 -->\n<g class=\"edge\" id=\"edge28\">\n<title>140497625898904-&gt;140497625957768</title>\n<path d=\"M509.9045,-292.4551C503.3599,-283.7686 495.3896,-273.1898 488.196,-263.642\" fill=\"none\" stroke=\"#000000\"/>\n<polygon fill=\"#000000\" points=\"490.9427,-261.4711 482.1297,-255.5904 485.3518,-265.6834 490.9427,-261.4711\" stroke=\"#000000\"/>\n</g>\n<!-- 140497625977912 -->\n<g class=\"node\" id=\"node28\">\n<title>140497625977912</title>\n<polygon fill=\"none\" points=\"382,-146.5 382,-182.5 555,-182.5 555,-146.5 382,-146.5\" stroke=\"#000000\"/>\n<text fill=\"#000000\" font-family=\"Times,serif\" font-size=\"14.00\" text-anchor=\"middle\" x=\"468.5\" y=\"-160.8\">Combine-MF-MLP: Dense</text>\n</g>\n<!-- 140497625957768&#45;&gt;140497625977912 -->\n<g class=\"edge\" id=\"edge29\">\n<title>140497625957768-&gt;140497625977912</title>\n<path d=\"M468.5,-219.4551C468.5,-211.3828 468.5,-201.6764 468.5,-192.6817\" fill=\"none\" stroke=\"#000000\"/>\n<polygon fill=\"#000000\" points=\"472.0001,-192.5903 468.5,-182.5904 465.0001,-192.5904 472.0001,-192.5903\" stroke=\"#000000\"/>\n</g>\n<!-- 140497626016064 -->\n<g class=\"node\" id=\"node29\">\n<title>140497626016064</title>\n<polygon fill=\"none\" points=\"386.5,-73.5 386.5,-109.5 550.5,-109.5 550.5,-73.5 386.5,-73.5\" stroke=\"#000000\"/>\n<text fill=\"#000000\" font-family=\"Times,serif\" font-size=\"14.00\" text-anchor=\"middle\" x=\"468.5\" y=\"-87.8\">FullyConnected-4: Dense</text>\n</g>\n<!-- 140497625977912&#45;&gt;140497626016064 -->\n<g class=\"edge\" id=\"edge30\">\n<title>140497625977912-&gt;140497626016064</title>\n<path d=\"M468.5,-146.4551C468.5,-138.3828 468.5,-128.6764 468.5,-119.6817\" fill=\"none\" stroke=\"#000000\"/>\n<polygon fill=\"#000000\" points=\"472.0001,-119.5903 468.5,-109.5904 465.0001,-119.5904 472.0001,-119.5903\" stroke=\"#000000\"/>\n</g>\n<!-- 140497626018312 -->\n<g class=\"node\" id=\"node30\">\n<title>140497626018312</title>\n<polygon fill=\"none\" points=\"409.5,-.5 409.5,-36.5 527.5,-36.5 527.5,-.5 409.5,-.5\" stroke=\"#000000\"/>\n<text fill=\"#000000\" font-family=\"Times,serif\" font-size=\"14.00\" text-anchor=\"middle\" x=\"468.5\" y=\"-14.8\">Prediction: Dense</text>\n</g>\n<!-- 140497626016064&#45;&gt;140497626018312 -->\n<g class=\"edge\" id=\"edge31\">\n<title>140497626016064-&gt;140497626018312</title>\n<path d=\"M468.5,-73.4551C468.5,-65.3828 468.5,-55.6764 468.5,-46.6817\" fill=\"none\" stroke=\"#000000\"/>\n<polygon fill=\"#000000\" points=\"472.0001,-46.5903 468.5,-36.5904 465.0001,-46.5904 472.0001,-46.5903\" stroke=\"#000000\"/>\n</g>\n</g>\n</svg>"
          },
          "metadata": {
            "tags": []
          },
          "execution_count": 18
        }
      ]
    },
    {
      "cell_type": "code",
      "metadata": {
        "id": "mFVgTdD9qVTd",
        "colab_type": "code",
        "colab": {}
      },
      "source": [
        "from keras.callbacks import EarlyStopping, ModelCheckpoint\n",
        "import datetime\n",
        "\n",
        "early_stopping = EarlyStopping(monitor='val_loss', patience=5)\n",
        "STAMP = \"{}_recommender_movie\".format(datetime.date.today().strftime(\"%Y-%m-%d\"))\n",
        " \n",
        "bst_model_path = \"/content/gdrive/My Drive/Movies/{}.h5\".format(STAMP)\n",
        "model_checkpoint = ModelCheckpoint(bst_model_path,\n",
        "save_best_only=True,\n",
        "save_weights_only=False,\n",
        "verbose=1)"
      ],
      "execution_count": 0,
      "outputs": []
    },
    {
      "cell_type": "code",
      "metadata": {
        "id": "2tT9rxvL5Bl7",
        "colab_type": "code",
        "outputId": "9c96faf3-9eeb-489c-f463-7a29cfc9ea1a",
        "colab": {
          "base_uri": "https://localhost:8080/",
          "height": 442
        }
      },
      "source": [
        "history = model.fit([train.userId, train.movieId], \n",
        "                    train.rating, \n",
        "                    epochs=10,\n",
        "                    verbose=1,\n",
        "                    callbacks=[early_stopping, model_checkpoint],\n",
        "                    validation_split=0.1)"
      ],
      "execution_count": 0,
      "outputs": [
        {
          "output_type": "stream",
          "text": [
            "Train on 180000 samples, validate on 20000 samples\n",
            "Epoch 1/10\n",
            "180000/180000 [==============================] - 138s 766us/step - loss: 0.7409 - val_loss: 0.7138\n",
            "\n",
            "Epoch 00001: val_loss did not improve from 0.69446\n",
            "Epoch 2/10\n",
            "180000/180000 [==============================] - 122s 678us/step - loss: 0.6781 - val_loss: 0.7339\n",
            "\n",
            "Epoch 00002: val_loss did not improve from 0.69446\n",
            "Epoch 3/10\n",
            "180000/180000 [==============================] - 126s 698us/step - loss: 0.6020 - val_loss: 0.7392\n",
            "\n",
            "Epoch 00003: val_loss did not improve from 0.69446\n",
            "Epoch 4/10\n",
            "180000/180000 [==============================] - 125s 696us/step - loss: 0.5459 - val_loss: 0.7466\n",
            "\n",
            "Epoch 00004: val_loss did not improve from 0.69446\n",
            "Epoch 5/10\n",
            "180000/180000 [==============================] - 126s 698us/step - loss: 0.5079 - val_loss: 0.7584\n",
            "\n",
            "Epoch 00005: val_loss did not improve from 0.69446\n",
            "Epoch 6/10\n",
            "180000/180000 [==============================] - 125s 696us/step - loss: 0.4833 - val_loss: 0.7642\n",
            "\n",
            "Epoch 00006: val_loss did not improve from 0.69446\n"
          ],
          "name": "stdout"
        }
      ]
    },
    {
      "cell_type": "code",
      "metadata": {
        "id": "uX2t5meTpo9u",
        "colab_type": "code",
        "outputId": "02c8d142-e3c2-4b0f-c5b7-21bd48d058d1",
        "colab": {
          "base_uri": "https://localhost:8080/",
          "height": 34
        }
      },
      "source": [
        "from sklearn.metrics import mean_absolute_error\n",
        "\n",
        "print(mean_absolute_error(test.rating, model.predict([test.userId, test.movieId])))"
      ],
      "execution_count": 0,
      "outputs": [
        {
          "output_type": "stream",
          "text": [
            "0.7462901209032535\n"
          ],
          "name": "stdout"
        }
      ]
    },
    {
      "cell_type": "code",
      "metadata": {
        "id": "71aIgLipxukx",
        "colab_type": "code",
        "colab": {}
      },
      "source": [
        ""
      ],
      "execution_count": 0,
      "outputs": []
    }
  ]
}